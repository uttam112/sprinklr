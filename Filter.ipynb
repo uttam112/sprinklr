{
  "nbformat": 4,
  "nbformat_minor": 0,
  "metadata": {
    "colab": {
      "provenance": [],
      "authorship_tag": "ABX9TyMWxk/gmP3fCPXn40RO3YZ0",
      "include_colab_link": true
    },
    "kernelspec": {
      "name": "python3",
      "display_name": "Python 3"
    },
    "language_info": {
      "name": "python"
    }
  },
  "cells": [
    {
      "cell_type": "markdown",
      "metadata": {
        "id": "view-in-github",
        "colab_type": "text"
      },
      "source": [
        "<a href=\"https://colab.research.google.com/github/uttam112/sprinklr/blob/main/Filter.ipynb\" target=\"_parent\"><img src=\"https://colab.research.google.com/assets/colab-badge.svg\" alt=\"Open In Colab\"/></a>"
      ]
    },
    {
      "cell_type": "code",
      "source": [
        "!pip install sentence_transformers"
      ],
      "metadata": {
        "id": "6wt4wmJFiO0R"
      },
      "execution_count": null,
      "outputs": []
    },
    {
      "cell_type": "markdown",
      "source": [
        "#collect sentences for filteration"
      ],
      "metadata": {
        "id": "kwqD0--ZYIVQ"
      }
    },
    {
      "cell_type": "code",
      "source": [
        "sentences = sentences + avaya_queries + zendesk_queries + genesys_queries\n",
        "sen = []\n",
        "for item in sentences:\n",
        "  if item not in sen:\n",
        "    sen.append(item)\n",
        "sentences = sen\n",
        "print(len(sentences))"
      ],
      "metadata": {
        "colab": {
          "base_uri": "https://localhost:8080/"
        },
        "id": "WbYH6ZbWmsRB",
        "outputId": "33576279-d12b-4437-94ff-63c6cf3e5cc6"
      },
      "execution_count": null,
      "outputs": [
        {
          "output_type": "stream",
          "name": "stdout",
          "text": [
            "283\n"
          ]
        }
      ]
    },
    {
      "cell_type": "markdown",
      "source": [
        "# Creating Vectors"
      ],
      "metadata": {
        "id": "PZ0MRbu3YOuf"
      }
    },
    {
      "cell_type": "code",
      "execution_count": null,
      "metadata": {
        "colab": {
          "base_uri": "https://localhost:8080/"
        },
        "id": "gryDjbGth5mc",
        "outputId": "7c4bd845-6370-47b6-a094-2c930c4b7bf9"
      },
      "outputs": [
        {
          "output_type": "execute_result",
          "data": {
            "text/plain": [
              "(283, 768)"
            ]
          },
          "metadata": {},
          "execution_count": 78
        }
      ],
      "source": [
        "from sentence_transformers import SentenceTransformer\n",
        "# initialize sentence transformer model\n",
        "model = SentenceTransformer('bert-base-nli-mean-tokens')\n",
        "# create sentence embeddings\n",
        "sentence_embeddings = model.encode(sentences)\n",
        "sentence_embeddings.shape"
      ]
    },
    {
      "cell_type": "markdown",
      "source": [
        "#Analysis of queries for filteration"
      ],
      "metadata": {
        "id": "RytSX20zX_2B"
      }
    },
    {
      "cell_type": "code",
      "source": [
        "import numpy as np\n",
        "import matplotlib.pyplot as plt\n",
        "from sklearn.decomposition import PCA\n",
        "\n",
        "M = sentence_embeddings\n",
        "\n",
        "pca = PCA(n_components=2)\n",
        "reduced = pca.fit_transform(M)\n",
        "\n",
        "t = reduced.transpose()\n",
        "\n",
        "plt.scatter(t[0], t[1])\n",
        "plt.show()"
      ],
      "metadata": {
        "colab": {
          "base_uri": "https://localhost:8080/",
          "height": 430
        },
        "id": "xB0h7QfAk5rh",
        "outputId": "3e319fa4-a0ee-4d2a-b315-eb6c074c9f9a"
      },
      "execution_count": null,
      "outputs": [
        {
          "output_type": "display_data",
          "data": {
            "text/plain": [
              "<Figure size 640x480 with 1 Axes>"
            ],
            "image/png": "[encoded data removed]"
          },
          "metadata": {}
        }
      ]
    },
    {
      "cell_type": "markdown",
      "source": [
        "#Analysis of Chunks for filteration"
      ],
      "metadata": {
        "id": "O5grCIwSppG7"
      }
    },
    {
      "cell_type": "markdown",
      "source": [
        "First Load Chunks that are created"
      ],
      "metadata": {
        "id": "p6OxLt0NqSsu"
      }
    },
    {
      "cell_type": "code",
      "source": [
        "sentences = [content.page_content for content in chunks]\n",
        "print(len(sentences))"
      ],
      "metadata": {
        "colab": {
          "base_uri": "https://localhost:8080/"
        },
        "id": "m34X2YYQHVY1",
        "outputId": "ddcf3018-b42d-4122-e706-471a5714eadf"
      },
      "execution_count": null,
      "outputs": [
        {
          "output_type": "stream",
          "name": "stdout",
          "text": [
            "4968\n"
          ]
        }
      ]
    },
    {
      "cell_type": "code",
      "execution_count": null,
      "metadata": {
        "id": "LSKnaCBPpkl4"
      },
      "outputs": [],
      "source": [
        "from sentence_transformers import SentenceTransformer\n",
        "# initialize sentence transformer model\n",
        "model = SentenceTransformer('bert-base-nli-mean-tokens')\n",
        "# create sentence embeddings\n",
        "sentence_embeddings = model.encode(sentences)\n",
        "sentence_embeddings.shape"
      ]
    },
    {
      "cell_type": "code",
      "source": [
        "import numpy as np\n",
        "import matplotlib.pyplot as plt\n",
        "from sklearn.decomposition import PCA\n",
        "\n",
        "M = sentence_embeddings\n",
        "\n",
        "pca = PCA(n_components=2)\n",
        "reduced = pca.fit_transform(M)\n",
        "\n",
        "t = reduced.transpose()\n",
        "\n",
        "plt.scatter(t[0], t[1],s=5)\n",
        "plt.show()"
      ],
      "metadata": {
        "colab": {
          "base_uri": "https://localhost:8080/",
          "height": 430
        },
        "outputId": "ada686bf-0d12-459f-8cdd-b9b31668e2e2",
        "id": "-Bcyh1cepkl4"
      },
      "execution_count": null,
      "outputs": [
        {
          "output_type": "display_data",
          "data": {
            "text/plain": [
              "<Figure size 640x480 with 1 Axes>"
            ],
            "image/png": "[encoded data removed]"
          },
          "metadata": {}
        }
      ]
    },
    {
      "cell_type": "markdown",
      "source": [
        "# queries"
      ],
      "metadata": {
        "id": "6MIh-7rWpzfJ"
      }
    },
    {
      "cell_type": "code",
      "source": [
        "sentences =[\n",
        "    \"What services does Sprinklr offer?\",\n",
        "    \"What is Sprinklr?\",\n",
        "    \"Can you provide an overview of Sprinklr's product suite?\",\n",
        "    \"How does Sprinklr help businesses with social media management?\",\n",
        "    \"What are the key features of Sprinklr's platform?\",\n",
        "    \"How can Sprinklr help with customer experience management?\",\n",
        "    \"What industries does Sprinklr cater to?\",\n",
        "    \"Can you explain how Sprinklr's listening and analytics capabilities work?\",\n",
        "    \"What social media platforms does Sprinklr support?\",\n",
        "    \"How does Sprinklr assist with content creation and publishing?\",\n",
        "    \"Can Sprinklr help with social media advertising campaigns?\",\n",
        "    \"What is Sprinklr's approach to influencer marketing?\",\n",
        "    \"Does Sprinklr provide customer support and training?\",\n",
        "    \"How does Sprinklr ensure data security and privacy?\",\n",
        "    \"Can Sprinklr integrate with other systems and platforms?\",\n",
        "    \"What are some notable case studies or success stories of businesses using Sprinklr?\",\n",
        "    \"Are there any industry-specific solutions offered by Sprinklr?\",\n",
        "    \"Can you explain the concept of 'Sprinklr Modern Engagement'?\",\n",
        "    \"How does Sprinklr enable personalized customer experiences?\",\n",
        "    \"What are Sprinklr's capabilities for social media listening and sentiment analysis?\",\n",
        "    \"Does Sprinklr offer social media crisis management solutions?\",\n",
        "    \"How does Sprinklr help with social media customer care?\",\n",
        "    \"What is Sprinklr's Social Advertising product?\",\n",
        "    \"Can Sprinklr assist with social media content moderation and compliance?\",\n",
        "    \"How does Sprinklr handle social media collaboration and workflow management?\",\n",
        "    \"What reporting and analytics features are available in Sprinklr?\",\n",
        "    \"Can Sprinklr help with social media benchmarking and competitive analysis?\",\n",
        "    \"Does Sprinklr offer any AI-powered features or capabilities?\",\n",
        "    \"How can Sprinklr assist with social media influencer identification and management?\",\n",
        "    \"What is Sprinklr's approach to social media governance and risk management?\",\n",
        "    \"Can Sprinklr help with social media listening in multiple languages?\",\n",
        "    \"How does Sprinklr support social media data integration and consolidation?\",\n",
        "    \"What are some unique features of Sprinklr's social media command center?\",\n",
        "    \"Does Sprinklr provide any tools for social media sentiment analysis?\",\n",
        "    \"How does Sprinklr handle social media engagement across different channels?\",\n",
        "    \"Can Sprinklr assist with social media content moderation and community management?\",\n",
        "    \"What are the benefits of using Sprinklr for social media customer care?\",\n",
        "    \"How does Sprinklr handle social media publishing and scheduling?\",\n",
        "    \"Can Sprinklr help with social media lead generation and conversion tracking?\",\n",
        "    \"What social media listening capabilities does Sprinklr offer for brand monitoring?\",\n",
        "    \"How does Sprinklr help businesses with social media crisis management?\",\n",
        "    \"Can Sprinklr assist with social media compliance and regulatory requirements?\",\n",
        "    \"What are some notable customer experience management features in Sprinklr?\",\n",
        "    \"How does Sprinklr enable personalized customer interactions across channels?\",\n",
        "    \"Does Sprinklr provide any tools for customer journey mapping and tracking?\",\n",
        "    \"Can Sprinklr help with customer sentiment analysis and feedback management?\",\n",
        "    \"What are some features of Sprinklr's customer care and support solution?\",\n",
        "    \"How does Sprinklr handle customer inquiries and support ticket management?\",\n",
        "    \"Can Sprinklr assist with customer satisfaction surveys and feedback analysis?\",\n",
        "    \"What are some social media marketing features offered by Sprinklr?\",\n",
        "    \"How does Sprinklr enable targeted social media advertising campaigns?\",\n",
        "    \"What are the benefits of using Sprinklr for social media management?\",\n",
        "    \"Does Sprinklr offer content creation and curation tools?\",\n",
        "    \"How does Sprinklr help with social media listening and monitoring?\",\n",
        "    \"Can Sprinklr assist with social media engagement and community management?\",\n",
        "    \"What are some features of Sprinklr's social media analytics and reporting?\",\n",
        "    \"How does Sprinklr handle social media influencer identification and management?\",\n",
        "    \"Does Sprinklr provide tools for social media campaign planning and execution?\",\n",
        "    \"Can Sprinklr assist with social media compliance and risk management?\",\n",
        "    \"What are some features of Sprinklr's social media customer care solution?\",\n",
        "    \"How does Sprinklr handle social media publishing and scheduling?\",\n",
        "    \"Can Sprinklr help with social media sentiment analysis and trend detection?\",\n",
        "    \"What are the benefits of using Sprinklr for customer experience management?\",\n",
        "    \"Does Sprinklr provide tools for customer feedback collection and analysis?\",\n",
        "    \"How does Sprinklr enable personalized customer interactions across channels?\",\n",
        "    \"Can Sprinklr assist with customer journey mapping and tracking?\",\n",
        "    \"What are some features of Sprinklr's customer care and support solution?\",\n",
        "    \"How does Sprinklr handle customer inquiries and ticket management?\",\n",
        "    \"Can Sprinklr help with customer satisfaction surveys and sentiment analysis?\",\n",
        "    \"What are the benefits of using Sprinklr for social media marketing?\",\n",
        "    \"Does Sprinklr offer social media advertising and targeting capabilities?\",\n",
        "    \"How does Sprinklr enable social media campaign optimization and measurement?\",\n",
        "    \"Can Sprinklr assist with social media influencer marketing and partnerships?\",\n",
        "    \"What are some features of Sprinklr's social media content moderation?\",\n",
        "    \"Does Sprinklr provide tools for social media listening in multiple languages?\",\n",
        "    \"How does Sprinklr handle social media crisis management and response?\",\n",
        "    \"Can Sprinklr help with social media compliance and regulatory requirements?\",\n",
        "    \"What are the benefits of using Sprinklr for customer experience optimization?\",\n",
        "    \"Does Sprinklr provide tools for customer feedback analysis and sentiment tracking?\",\n",
        "    \"How does Sprinklr enable personalized customer journeys and touchpoints?\",\n",
        "    \"Can Sprinklr assist with customer segmentation and targeting?\",\n",
        "    \"What are some features of Sprinklr's customer self-service and knowledge base?\",\n",
        "    \"Does Sprinklr provide tools for customer satisfaction measurement and analysis?\",\n",
        "    \"How does Sprinklr handle customer inquiries and ticket escalation?\",\n",
        "    \"Can Sprinklr help with customer loyalty programs and rewards management?\",\n",
        "    \"What are the benefits of using Sprinklr for social media analytics?\",\n",
        "    \"Does Sprinklr offer social media benchmarking and competitive analysis?\",\n",
        "    \"How does Sprinklr enable real-time social media data visualization?\",\n",
        "    \"Can Sprinklr assist with social media sentiment analysis and brand health monitoring?\",\n",
        "    \"What are some features of Sprinklr's social media listening and monitoring dashboards?\",\n",
        "    \"Does Sprinklr provide tools for social media influencer tracking and performance analysis?\",\n",
        "    \"How does Sprinklr handle social media campaign performance measurement and attribution?\",\n",
        "    \"Can Sprinklr help with social media crisis detection and response?\",\n",
        "    \"What are the benefits of using Sprinklr for customer engagement and satisfaction?\",\n",
        "    \"Does Sprinklr offer customer sentiment analysis and feedback management?\",\n",
        "    \"How does Sprinklr enable omni-channel customer interactions and personalization?\",\n",
        "    \"Can Sprinklr assist with customer journey mapping and touchpoint optimization?\",\n",
        "    \"What are some features of Sprinklr's customer care and support ticketing system?\",\n",
        "    \"What is Sprinklr and what services does it offer?\",\n",
        "    \"How can Sprinklr benefit my business?\",\n",
        "    \"Is Sprinklr suitable for small businesses or is it more geared towards larger enterprises?\",\n",
        "    \"How does Sprinklr compare to other social media management platforms?\",\n",
        "    \"What social media platforms does Sprinklr support?\",\n",
        "    \"Can Sprinklr help with social media content creation?\",\n",
        "    \"Does Sprinklr provide tools for scheduling and automating social media posts?\",\n",
        "    \"Can Sprinklr assist with managing multiple social media accounts?\",\n",
        "    \"How does Sprinklr handle social media engagement and community management?\",\n",
        "    \"Can Sprinklr help with social media listening and monitoring brand mentions?\",\n",
        "    \"What analytics and reporting features does Sprinklr offer for social media?\",\n",
        "    \"Can Sprinklr assist with social media ad campaigns and targeting?\",\n",
        "    \"Does Sprinklr provide customer support and training for its platform?\",\n",
        "    \"How does Sprinklr ensure data privacy and security?\",\n",
        "    \"What integrations does Sprinklr have with other marketing tools and platforms?\",\n",
        "    \"Does Sprinklr offer a free trial or a demo of its services?\",\n",
        "    \"Can Sprinklr help with influencer marketing on social media?\",\n",
        "    \"How customizable is Sprinklr's platform to suit my business needs?\",\n",
        "    \"What is the pricing structure for Sprinklr's services?\",\n",
        "    \"Does Sprinklr provide real-time social media monitoring and alerts?\",\n",
        "    \"Can Sprinklr assist with crisis management and reputation monitoring?\",\n",
        "    \"What customer insights and audience segmentation capabilities does Sprinklr offer?\",\n",
        "    \"How does Sprinklr handle social media compliance and governance?\",\n",
        "    \"Can Sprinklr help with social media customer service and support?\",\n",
        "    \"What data analytics and visualization features does Sprinklr provide?\",\n",
        "    \"Does Sprinklr offer social media sentiment analysis?\",\n",
        "    \"Can Sprinklr assist with social media influencer identification and partnerships?\",\n",
        "    \"What customer success stories or case studies does Sprinklr have?\",\n",
        "    \"How does Sprinklr handle social media advertising and performance tracking?\",\n",
        "    \"Can Sprinklr help with content moderation and user-generated content management?\",\n",
        "    \"What AI and machine learning capabilities does Sprinklr incorporate?\",\n",
        "    \"Does Sprinklr provide insights on competitor analysis and benchmarking?\",\n",
        "    \"Can Sprinklr assist with social media campaign planning and strategy?\",\n",
        "    \"How does Sprinklr handle social media crisis communication and response?\",\n",
        "    \"What training and onboarding resources does Sprinklr provide?\",\n",
        "    \"Does Sprinklr offer mobile apps for managing social media on the go?\",\n",
        "    \"Can Sprinklr integrate with my existing CRM or customer database?\",\n",
        "    \"What social media listening capabilities does Sprinklr have?\",\n",
        "    \"Does Sprinklr provide data export and API access for further analysis?\",\n",
        "    \"Can Sprinklr help with social media influencer marketing campaigns?\",\n",
        "    \"How does Sprinklr handle social media customer feedback and reviews?\",\n",
        "    \"What support channels are available for Sprinklr users?\",\n",
        "    \"Does Sprinklr offer social media benchmarking and performance insights?\",\n",
        "    \"Can Sprinklr assist with social media crisis detection and prevention?\",\n",
        "    \"What measurement and ROI tracking features does Sprinklr provide?\",\n",
        "    \"Does Sprinklr offer sentiment analysis for social media mentions?\",\n",
        "    \"Can Sprinklr help with social media listening and trend analysis?\",\n",
        "    \"How does Sprinklr handle social media content moderation and compliance?\",\n",
        "    \"What customer engagement and loyalty features does Sprinklr offer?\",\n",
        "    \"Does Sprinklr provide social media campaign automation and optimization?\",\n",
        "    \"Can Sprinklr assist with social media audience segmentation and targeting?\",\n",
        "    \"What support resources does Sprinklr have for technical issues?\",\n",
        "    \"How does Sprinklr handle data storage and backup?\",\n",
        "    \"Can Sprinklr help with social media crisis communication planning?\",\n",
        "    \"What analytics and reporting options does Sprinklr offer for ad campaigns?\",\n",
        "    \"Does Sprinklr provide sentiment analysis for customer reviews and feedback?\",\n",
        "    \"Can Sprinklr assist with social media listening for competitor analysis?\",\n",
        "    \"What training options are available for Sprinklr users?\",\n",
        "    \"How does Sprinklr handle data privacy compliance?\",\n",
        "    \"Does Sprinklr offer social media publishing and content calendar features?\",\n",
        "    \"Can Sprinklr help with social media engagement and customer service workflows?\",\n",
        "    \"What social media platforms does Sprinklr offer integrations with?\",\n",
        "    \"Does Sprinklr provide data visualization and dashboarding capabilities?\",\n",
        "    \"Can Sprinklr assist with social media influencer performance tracking?\",\n",
        "    \"How does Sprinklr handle social media campaign attribution and ROI measurement?\",\n",
        "    \"What support resources does Sprinklr have for marketing strategies?\",\n",
        "    \"Does Sprinklr offer sentiment analysis for social media ad campaigns?\",\n",
        "    \"Can Sprinklr help with social media listening for industry trends?\",\n",
        "    \"What data governance and compliance features does Sprinklr provide?\",\n",
        "    \"What customer journey mapping and personalization features does Sprinklr offer?\",\n",
        "    \"Does Sprinklr provide social media ad targeting and optimization tools?\",\n",
        "    \"Can Sprinklr assist with social media crisis communication execution?\",\n",
        "    \"How does Sprinklr handle user permissions and access control?\",\n",
        "    \"What social media platforms does Sprinklr provide analytics for?\",\n",
        "    \"Does Sprinklr offer social media sentiment analysis for customer feedback?\",\n",
        "    \"Can Sprinklr help with social media listening for brand mentions?\",\n",
        "    \"What resources are available for learning Sprinklr best practices?\",\n",
        "    \"How does Sprinklr handle data security and encryption?\",\n",
        "    \"Does Sprinklr provide social media publishing and scheduling tools?\",\n",
        "    \"Can Sprinklr assist with social media engagement analytics and insights?\",\n",
        "    \"What integrations does Sprinklr have with customer support platforms?\",\n",
        "    \"Does Sprinklr offer sentiment analysis for social media influencer campaigns?\",\n",
        "    \"Can Sprinklr help with social media listening for audience insights?\",\n",
        "    \"What data retention policies does Sprinklr have?\",\n",
        "    \"What customer data enrichment and segmentation capabilities does Sprinklr offer?\",\n",
        "    \"Does Sprinklr provide social media ad campaign optimization features?\",\n",
        "    \"Can Sprinklr assist with social media crisis communication evaluation?\",\n",
        "    \"How does Sprinklr handle data backup and disaster recovery?\",\n",
        "    \"What social media platforms does Sprinklr offer content moderation for?\",\n",
        "    \"Does Sprinklr offer sentiment analysis for social media customer service?\",\n",
        "    \"Can Sprinklr help with social media listening for competitor benchmarking?\",\n",
        "    \"What training resources does Sprinklr offer for social media managers?\",\n",
        "    \"How does Sprinklr ensure compliance with social media platform policies?\",\n",
        "    \"Does Sprinklr provide social media publishing and approval workflows?\",\n",
        "    \"Can Sprinklr assist with social media engagement analytics for customer support?\",\n",
        "    \"What integrations does Sprinklr have with advertising platforms?\",\n",
        "    \"Does Sprinklr offer sentiment analysis for social media trend analysis?\",\n",
        "    \"Can Sprinklr help with social media listening for crisis detection?\",\n",
        "    \"What data access controls and permissions does Sprinklr have?\",\n",
        "    \"What customer segmentation and targeting capabilities does Sprinklr offer?\",\n",
        "    \"Does Sprinklr provide social media ad campaign performance tracking?\",\n",
        "    \"Can Sprinklr assist with social media crisis communication preparation?\",\n",
        "    \"How does Sprinklr handle data privacy compliance for global regulations?\",\n",
        "    \"What social media platforms does Sprinklr provide listening capabilities for?\",\n",
        "    \"Does Sprinklr offer sentiment analysis for social media influencer partnerships?\",\n",
        "    \"Can Sprinklr help with social media listening for sentiment analysis?\",\n",
        "    \"What resources are available for Sprinklr platform troubleshooting?\",\n",
        "    \"How does Sprinklr ensure the accuracy and integrity of social media data?\",\n",
        "    \"Does Sprinklr provide social media publishing and content approval features?\",\n",
        "    \"Can Sprinklr assist with social media engagement analytics for marketing campaigns?\",\n",
        "    \"What integrations does Sprinklr have with CRM platforms?\",\n",
        "    \"Does Sprinklr offer sentiment analysis for social media competitor analysis?\",\n",
        "    \"Can Sprinklr help with social media listening for brand reputation management?\",\n",
        "    \"What data storage options and locations does Sprinklr offer?\",\n",
        "    \"What customer journey analytics and reporting capabilities does Sprinklr have?\",\n",
        "    \"Does Sprinklr provide social media ad campaign targeting and optimization?\",\n",
        "    \"Can Sprinklr assist with social media crisis communication training?\",\n",
        "    \"How does Sprinklr handle data access and user authentication?\",\n",
        "    \"What social media platforms does Sprinklr provide ad campaign management for?\",\n",
        "    \"Does Sprinklr offer sentiment analysis for social media customer feedback?\",\n",
        "    \"Can Sprinklr help with social media listening for industry insights?\",\n",
        "    \"What resources are available for learning advanced Sprinklr features?\",\n",
        "    \"How does Sprinklr ensure compliance with data protection regulations?\",\n",
        "    \"Does Sprinklr provide social media publishing and content distribution features?\",\n",
        "    \"Can Sprinklr assist with social media engagement analytics for audience insights?\",\n",
        "    \"What integrations does Sprinklr have with e-commerce platforms?\",\n",
        "    \"Does Sprinklr offer sentiment analysis for social media ad campaigns?\",\n",
        "    \"Can Sprinklr help with social media listening for sentiment monitoring?\",\n",
        "    \"What data governance policies and controls does Sprinklr have?\",\n",
        "    \"What customer data enrichment and segmentation capabilities does Sprinklr offer?\",\n",
        "    \"Does Sprinklr provide social media ad campaign optimization features?\",\n",
        "    \"Can Sprinklr assist with social media crisis communication execution?\",\n",
        "    \"How does Sprinklr handle user permissions and access control?\",\n",
        "    \"What social media platforms does Sprinklr provide analytics for?\",\n",
        "    \"Does Sprinklr offer social media sentiment analysis for customer feedback?\",\n",
        "    \"Can Sprinklr help with social media listening for brand mentions?\",\n",
        "    \"What resources are available for learning Sprinklr best practices?\",\n",
        "    \"How does Sprinklr handle data security and encryption?\",\n",
        "    \"Does Sprinklr provide social media publishing and scheduling tools?\",\n",
        "    \"Can Sprinklr assist with social media engagement analytics and insights?\",\n",
        "    \"What integrations does Sprinklr have with customer support platforms?\",\n",
        "    \"Does Sprinklr offer sentiment analysis for social media influencer campaigns?\",\n",
        "    \"Can Sprinklr help with social media listening for audience insights?\",\n",
        "    \"What data retention policies does Sprinklr have?\",\n",
        "    \"What customer data enrichment and segmentation capabilities does Sprinklr offer?\",\n",
        "    \"Does Sprinklr provide social media ad campaign optimization features?\",\n",
        "    \"Can Sprinklr assist with social media crisis communication evaluation?\",\n",
        "    \"How does Sprinklr handle data backup and disaster recovery?\",\n",
        "    \"What social media platforms does Sprinklr provide content moderation for?\",\n",
        "    \"Does Sprinklr offer sentiment analysis for social media customer service?\",\n",
        "    \"Can Sprinklr help with social media listening for competitor benchmarking?\",\n",
        "    \"What training resources does Sprinklr offer for social media managers?\",\n",
        "    \"How does Sprinklr ensure compliance with social media platform policies?\",\n",
        "    \"Does Sprinklr provide social media publishing and approval workflows?\"\n",
        "    ]\n"
      ],
      "metadata": {
        "id": "lclXuAwYitTS"
      },
      "execution_count": null,
      "outputs": []
    },
    {
      "cell_type": "code",
      "source": [
        "avaya_queries = [\n",
        "    \"How does Sprinklr's customer experience management compare to Avaya's offerings?\",\n",
        "    \"Can Sprinklr seamlessly integrate with our existing Avaya contact center infrastructure?\",\n",
        "    \"What features and capabilities does Sprinklr offer that are similar to Avaya's solutions?\",\n",
        "    \"How does Sprinklr handle omnichannel customer interactions compared to Avaya?\",\n",
        "    \"Can Sprinklr provide real-time monitoring and analytics for contact center performance like Avaya?\",\n",
        "    \"Does Sprinklr offer advanced routing and queuing options similar to Avaya's contact center solutions?\",\n",
        "    \"Can Sprinklr assist with workforce management and agent scheduling like Avaya does?\",\n",
        "    \"What self-service options does Sprinklr provide for customers similar to Avaya's offerings?\",\n",
        "    \"Can Sprinklr integrate with our existing Avaya CRM system for a unified customer view?\",\n",
        "    \"How does Sprinklr handle scalability and high call volumes compared to Avaya?\",\n",
        "    \"Does Sprinklr offer advanced IVR capabilities similar to Avaya's solutions?\",\n",
        "    \"Can Sprinklr support remote and distributed contact center teams like Avaya?\",\n",
        "    \"What reporting and analytics features does Sprinklr offer for contact center metrics similar to Avaya?\",\n",
        "    \"Does Sprinklr provide real-time agent monitoring and coaching tools like Avaya does?\",\n",
        "    \"Can Sprinklr assist with omnichannel customer experience management similar to Avaya?\",\n",
        "    \"How does Sprinklr ensure data security and compliance in the contact center like Avaya?\",\n",
        "    \"Does Sprinklr offer automated speech recognition and transcription services like Avaya?\",\n",
        "    \"Can Sprinklr assist with sentiment analysis and customer emotion detection like Avaya?\",\n",
        "    \"What integrations does Sprinklr have with telephony and communication platforms like Avaya?\",\n",
        "    \"Does Sprinklr support outbound dialing and proactive customer engagement like Avaya?\"\n",
        "]\n",
        "\n",
        "zendesk_queries = [\n",
        "    \"How does Sprinklr's customer experience management compare to Zendesk's offerings?\",\n",
        "    \"Can Sprinklr seamlessly integrate with our existing Zendesk support ticketing system?\",\n",
        "    \"What features and capabilities does Sprinklr offer that are similar to Zendesk?\",\n",
        "    \"How does Sprinklr handle omnichannel customer interactions compared to Zendesk?\",\n",
        "    \"Can Sprinklr provide real-time monitoring and analytics for customer support performance like Zendesk?\",\n",
        "    \"Does Sprinklr offer advanced ticket routing and assignment options similar to Zendesk?\",\n",
        "    \"Can Sprinklr assist with knowledge base management and self-service options like Zendesk?\",\n",
        "    \"What customer feedback and survey tools does Sprinklr offer for support interactions similar to Zendesk?\",\n",
        "    \"Can Sprinklr integrate with our existing Zendesk CRM system for a unified customer view?\",\n",
        "    \"How does Sprinklr handle scalability and high support ticket volumes compared to Zendesk?\",\n",
        "    \"Does Sprinklr offer chat and messaging capabilities similar to Zendesk?\",\n",
        "    \"Can Sprinklr support social media support and engagement like Zendesk?\",\n",
        "    \"What reporting and analytics features does Sprinklr offer for support ticket metrics like Zendesk?\",\n",
        "    \"Does Sprinklr provide real-time agent monitoring and coaching tools like Zendesk does?\",\n",
        "    \"Can Sprinklr assist with automation and workflow management similar to Zendesk?\",\n",
        "    \"How does Sprinklr ensure data security and compliance in the support operations like Zendesk?\",\n",
        "    \"Does Sprinklr offer AI-powered chatbots and virtual agents like Zendesk?\",\n",
        "    \"Can Sprinklr integrate with customer satisfaction survey platforms like Zendesk?\",\n",
        "    \"What integrations does Sprinklr have with telephony and communication systems for support?\",\n",
        "    \"Does Sprinklr provide customer self-service options and knowledge base management like Zendesk?\"\n",
        "]\n",
        "\n",
        "genesys_queries = [\n",
        "    \"How does Sprinklr's customer experience management compare to Genesys's offerings?\",\n",
        "    \"Can Sprinklr seamlessly integrate with our existing Genesys contact center infrastructure?\",\n",
        "    \"What features and capabilities does Sprinklr offer that are similar to Genesys's solutions?\",\n",
        "    \"How does Sprinklr handle omnichannel customer interactions compared to Genesys?\",\n",
        "    \"Can Sprinklr provide real-time monitoring and analytics for contact center performance like Genesys?\",\n",
        "    \"Does Sprinklr offer advanced routing and queuing options similar to Genesys's contact center solutions?\",\n",
        "    \"Can Sprinklr assist with workforce management and agent scheduling like Genesys does?\",\n",
        "    \"What self-service options does Sprinklr provide for customers similar to Genesys's offerings?\",\n",
        "    \"Can Sprinklr integrate with our existing Genesys CRM system for a unified customer view?\",\n",
        "    \"How does Sprinklr handle scalability and high call volumes compared to Genesys?\",\n",
        "    \"Does Sprinklr offer advanced IVR capabilities similar to Genesys's solutions?\",\n",
        "    \"Can Sprinklr support remote and distributed contact center teams like Genesys?\",\n",
        "    \"What reporting and analytics features does Sprinklr offer for contact center metrics similar to Genesys?\",\n",
        "    \"Does Sprinklr provide real-time agent monitoring and coaching tools like Genesys does?\",\n",
        "    \"Can Sprinklr assist with omnichannel customer experience management similar to Genesys?\",\n",
        "    \"How does Sprinklr ensure data security and compliance in the contact center like Genesys?\",\n",
        "    \"Does Sprinklr offer automated speech recognition and transcription services like Genesys?\",\n",
        "    \"Can Sprinklr assist with sentiment analysis and customer emotion detection like Genesys?\",\n",
        "    \"What integrations does Sprinklr have with telephony and communication platforms like Genesys?\",\n",
        "    \"Does Sprinklr support outbound dialing and proactive customer engagement like Genesys?\"\n",
        "]\n"
      ],
      "metadata": {
        "id": "aCMYz8hCnznS"
      },
      "execution_count": null,
      "outputs": []
    },
    {
      "cell_type": "code",
      "source": [
        "lis1 = []\n",
        "lis2 = []\n",
        "for  i in range(len(t[0])):\n",
        "  if(t[0][i]<-2):\n",
        "    lis1.append(i)\n",
        "  if(t[0][i]>2):\n",
        "    lis2.append(i)"
      ],
      "metadata": {
        "id": "NgEGx1gYCT4m"
      },
      "execution_count": null,
      "outputs": []
    },
    {
      "cell_type": "code",
      "source": [
        "for i in lis1:\n",
        "  print(sentences[i])"
      ],
      "metadata": {
        "id": "FASa7rprDKlO"
      },
      "execution_count": null,
      "outputs": []
    },
    {
      "cell_type": "code",
      "source": [
        "for i in lis2:\n",
        "  print(sentences[i])"
      ],
      "metadata": {
        "id": "tXb9N6nBLaiP"
      },
      "execution_count": null,
      "outputs": []
    }
  ]
}