{
  "cells": [
    {
      "cell_type": "markdown",
      "metadata": {
        "id": "view-in-github",
        "colab_type": "text"
      },
      "source": [
        "<a href=\"https://colab.research.google.com/github/uttam112/sprinklr/blob/main/Chunking.ipynb\" target=\"_parent\"><img src=\"https://colab.research.google.com/assets/colab-badge.svg\" alt=\"Open In Colab\"/></a>"
      ]
    },
    {
      "cell_type": "markdown",
      "source": [
        "#Installing Transformers and Langchain"
      ],
      "metadata": {
        "id": "KXbwnhLuClIO"
      }
    },
    {
      "cell_type": "code",
      "source": [
        "!pip install transformers\n",
        "!pip install langchain"
      ],
      "metadata": {
        "id": "-Qiag1mfl6I5"
      },
      "execution_count": null,
      "outputs": []
    },
    {
      "cell_type": "markdown",
      "source": [
        "#Function for splitting text into chunks"
      ],
      "metadata": {
        "id": "oUhWNdHXDBYY"
      }
    },
    {
      "cell_type": "code",
      "source": [
        "from langchain.text_splitter import RecursiveCharacterTextSplitter\n",
        "from transformers import GPT2TokenizerFast"
      ],
      "metadata": {
        "id": "zpJW5uZZn_5g"
      },
      "execution_count": null,
      "outputs": []
    },
    {
      "cell_type": "code",
      "source": [
        "#Create function to count tokens\n",
        "tokenizer = GPT2TokenizerFast.from_pretrained(\"gpt2\")\n",
        "\n",
        "def count_tokens(text: str) -> int:\n",
        "    return len(tokenizer.encode(text))\n",
        "\n",
        "\n",
        "\"\"\"\n",
        "This will split documents recursively by different characters - starting with \"\\n\\n\", then \"\\n\", then \" \".\n",
        "This is nice because it will try to keep all the semantically relevant content in the same place for as long as possible.\n",
        "\"\"\"\n",
        "\n",
        "text_splitter = RecursiveCharacterTextSplitter(\n",
        "    # separators =['\\n'],\n",
        "    chunk_size = 1000,               #chunk size of each document\n",
        "    chunk_overlap  = 200,            #An overlap from previous document to have some context\n",
        "    length_function = count_tokens,  #there is also a default length_function -> can remove this line\n",
        ")"
      ],
      "metadata": {
        "id": "wa_5_pu4oSKB"
      },
      "execution_count": null,
      "outputs": []
    },
    {
      "cell_type": "markdown",
      "source": [
        "#Loading the documents and creating chunks"
      ],
      "metadata": {
        "id": "dL5EHfnPDVmG"
      }
    },
    {
      "cell_type": "code",
      "source": [
        "chunks = []\n",
        "for i in range(16):\n",
        "  filename = \"/content/drive/MyDrive/dataset/purified/context\"+str(i)+\".txt\"         #change according to your file path\n",
        "  text_file = open(filename, \"r\")\n",
        "  #read whole file to a string\n",
        "  data = text_file.read()\n",
        "  chunks = chunks + text_splitter.create_documents([data])\n",
        "\n",
        "#================================================for debugging purpose===========================================================\n",
        "# text_file = open(\"context1.txt\", \"r\")\n",
        "# #read whole file to a string\n",
        "# data = text_file.read()\n",
        "# chunks = text_splitter.create_documents([data])\n",
        "\n",
        "# text_file = open(\"context2.txt\", \"r\")\n",
        "# #read whole file to a string\n",
        "# data = text_file.read()\n",
        "# chunks2 = text_splitter.create_documents([data])\n",
        "\n",
        "# text_file = open(\"context3.txt\", \"r\")\n",
        "# #read whole file to a string\n",
        "# data = text_file.read()\n",
        "# chunks3 = text_splitter.create_documents([data])\n",
        "\n",
        "# text_file = open(\"context4.txt\", \"r\")\n",
        "# #read whole file to a string\n",
        "# data = text_file.read()\n",
        "# chunks4 = text_splitter.create_documents([data])\n",
        "\n",
        "# text_file = open(\"context5.txt\", \"r\")\n",
        "# #read whole file to a string\n",
        "# data = text_file.read()\n",
        "# chunks5 = text_splitter.create_documents([data])\n",
        "\n",
        "# text_file = open(\"context6.txt\", \"r\")\n",
        "# #read whole file to a string\n",
        "# data = text_file.read()\n",
        "# chunks6 = text_splitter.create_documents([data])\n",
        "\n",
        "# text_file = open(\"context7.txt\", \"r\")\n",
        "# #read whole file to a string\n",
        "# data = text_file.read()\n",
        "# chunks7 = text_splitter.create_documents([data])\n",
        "\n",
        "# text_file = open(\"context8.txt\", \"r\")\n",
        "# #read whole file to a string\n",
        "# data = text_file.read()\n",
        "# chunks8 = text_splitter.create_documents([data])\n",
        "\n",
        "\n",
        "# text_file = open(\"context9.txt\", \"r\")\n",
        "# #read whole file to a string\n",
        "# data = text_file.read()\n",
        "# chunks9 = text_splitter.create_documents([data])\n",
        "\n",
        "# text_file = open(\"context10.txt\", \"r\")\n",
        "# #read whole file to a string\n",
        "# data = text_file.read()\n",
        "# chunks10 = text_splitter.create_documents([data])\n",
        "\n",
        "# text_file = open(\"context11.txt\", \"r\")\n",
        "# #read whole file to a string\n",
        "# data = text_file.read()\n",
        "# chunks11 = text_splitter.create_documents([data])\n",
        "\n",
        "# chunks = chunks  + chunks2 + chunks3 + chunks4 + chunks5 + chunks6 + chunks7 + chunks8 + chunks9 + chunks10 + chunks11"
      ],
      "metadata": {
        "id": "6WIGYhL7n_-e"
      },
      "execution_count": null,
      "outputs": []
    },
    {
      "cell_type": "markdown",
      "source": [
        "# Visualization of Token count in each Chunk"
      ],
      "metadata": {
        "id": "d2AOdW65KPjo"
      }
    },
    {
      "cell_type": "code",
      "source": [
        "import pandas as pd\n",
        "import matplotlib.pyplot as plt\n",
        "\n",
        "# Create a list of token counts\n",
        "token_counts = [count_tokens(chunk.page_content) for chunk in chunks]\n",
        "\n",
        "df = pd.DataFrame({'Token Count': token_counts})\n",
        "\n",
        "# Create a histogram of the token count distribution\n",
        "df.hist(bins=60, )\n",
        "\n",
        "plt.xlabel(\"Token Count\")\n",
        "plt.ylabel(\"Number of Chunks\")\n",
        "\n",
        "\n",
        "# Show the plot\n",
        "plt.show()"
      ],
      "metadata": {
        "id": "mkoi4uTr7uBT",
        "colab": {
          "base_uri": "https://localhost:8080/",
          "height": 472
        },
        "outputId": "8dbed86a-dd4e-4d1b-c1df-af5d979ce824"
      },
      "execution_count": null,
      "outputs": [
        {
          "output_type": "display_data",
          "data": {
            "text/plain": [
              "<Figure size 640x480 with 1 Axes>"
            ],
            "image/png": "[encoded data removed]"
          },
          "metadata": {}
        }
      ]
    },
    {
      "cell_type": "markdown",
      "source": [
        "#Huggingface embeddings/Sentence Transformer Embeddings"
      ],
      "metadata": {
        "id": "Fvlh0qaAD4zA"
      }
    },
    {
      "cell_type": "code",
      "source": [
        "!pip install sentence_transformers"
      ],
      "metadata": {
        "id": "uTx2x9Hgc6wK"
      },
      "execution_count": null,
      "outputs": []
    },
    {
      "cell_type": "code",
      "source": [
        "from langchain.embeddings import HuggingFaceEmbeddings\n",
        "embeddings = HuggingFaceEmbeddings()"
      ],
      "metadata": {
        "id": "ybu0vqQ5DpSB"
      },
      "execution_count": null,
      "outputs": []
    },
    {
      "cell_type": "code",
      "source": [
        "!pip install faiss-cpu"
      ],
      "metadata": {
        "id": "IfyPxYQhgXSX"
      },
      "execution_count": null,
      "outputs": []
    },
    {
      "cell_type": "code",
      "source": [
        "from langchain.vectorstores import FAISS\n",
        "db = FAISS.from_documents(chunks, embeddings)"
      ],
      "metadata": {
        "id": "krPVl3URpzO-"
      },
      "execution_count": null,
      "outputs": []
    },
    {
      "cell_type": "markdown",
      "source": [
        "#Merge two FAISS objects"
      ],
      "metadata": {
        "id": "hxwOKnCxcmoF"
      }
    },
    {
      "cell_type": "code",
      "source": [
        "def merge(db,db1):\n",
        "        \"\"\"Merge another FAISS object with the current one.\n",
        "\n",
        "        Add the target FAISS to the current one.\n",
        "\n",
        "        Args:\n",
        "            target: FAISS object you wish to merge into the current one\n",
        "\n",
        "        Returns:\n",
        "            None.\n",
        "        \"\"\"\n",
        "        db.merge_from(db1)\n",
        "        return db"
      ],
      "metadata": {
        "id": "jdv_kH7zbQyM"
      },
      "execution_count": null,
      "outputs": []
    },
    {
      "cell_type": "markdown",
      "source": [
        "#Saving the embeddings in Google Drive"
      ],
      "metadata": {
        "id": "qBLwaTp_HOP8"
      }
    },
    {
      "cell_type": "code",
      "source": [
        "import pickle\n",
        "with open(\"/content/drive/MyDrive/Embeddings/rpurified_only_Sprinklr1000_200.pkl\", \"wb\") as f:\n",
        "    pickle.dump(db,f)"
      ],
      "metadata": {
        "id": "P9wHI6SSMNNj"
      },
      "execution_count": null,
      "outputs": []
    },
    {
      "cell_type": "code",
      "source": [
        "#loading it from drive\n",
        "import pickle\n",
        "with open(\"/content/drive/MyDrive/Embeddings/purified_only_Sprinklr1000_200.pkl\", \"rb\") as f:\n",
        "    db = pickle.load(f)"
      ],
      "metadata": {
        "id": "hSFME52fPBg0"
      },
      "execution_count": null,
      "outputs": []
    },
    {
      "cell_type": "code",
      "source": [
        "docs = db._similarity_search_with_relevance_scores(\"How many companies use sprinklr?\", k = 6) #k = number of documents to be retrieved"
      ],
      "metadata": {
        "id": "6MyIbMkVtB35"
      },
      "execution_count": null,
      "outputs": []
    },
    {
      "cell_type": "code",
      "source": [
        "print(docs[0][0].page_content)"
      ],
      "metadata": {
        "id": "LJ8sxGZszgZ_"
      },
      "execution_count": null,
      "outputs": []
    }
  ],
  "metadata": {
    "colab": {
      "name": "Welcome To Colaboratory",
      "provenance": [],
      "include_colab_link": true
    },
    "kernelspec": {
      "display_name": "Python 3",
      "name": "python3"
    }
  },
  "nbformat": 4,
  "nbformat_minor": 0
}