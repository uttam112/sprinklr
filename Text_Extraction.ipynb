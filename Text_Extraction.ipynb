{
  "nbformat": 4,
  "nbformat_minor": 0,
  "metadata": {
    "colab": {
      "provenance": [],
      "authorship_tag": "ABX9TyMDZ4ekYW8Lso3S28Sc2NDc",
      "include_colab_link": true
    },
    "kernelspec": {
      "name": "python3",
      "display_name": "Python 3"
    },
    "language_info": {
      "name": "python"
    }
  },
  "cells": [
    {
      "cell_type": "markdown",
      "metadata": {
        "id": "view-in-github",
        "colab_type": "text"
      },
      "source": [
        "<a href=\"https://colab.research.google.com/github/uttam112/sprinklr/blob/main/Text_Extraction.ipynb\" target=\"_parent\"><img src=\"https://colab.research.google.com/assets/colab-badge.svg\" alt=\"Open In Colab\"/></a>"
      ]
    },
    {
      "cell_type": "markdown",
      "source": [
        "#Loading the Urls from txt file"
      ],
      "metadata": {
        "id": "RghA-XZwV9qc"
      }
    },
    {
      "cell_type": "code",
      "source": [
        "urls = []\n",
        "with open('SprinklrDotCom.txt', 'r') as file:\n",
        "    for line in file:\n",
        "        if(line.strip() not in urls):\n",
        "            urls.append(line.strip())\n",
        "\n",
        "print(len(urls))"
      ],
      "metadata": {
        "id": "ZfvtuOmcVTga"
      },
      "execution_count": null,
      "outputs": []
    },
    {
      "cell_type": "markdown",
      "source": [
        "#Extacting Text From the Urls"
      ],
      "metadata": {
        "id": "CJdHXBpRWB60"
      }
    },
    {
      "cell_type": "code",
      "source": [
        "!pip install langchain\n",
        "!pip install unstructured"
      ],
      "metadata": {
        "id": "9r2GOB6T18sD"
      },
      "execution_count": null,
      "outputs": []
    },
    {
      "cell_type": "code",
      "source": [
        "#removing texts that are present in header and footers\n",
        "\n",
        "def filter_text(text):\n",
        "    text = re.sub(r'[^\\x00-\\x7F]+',' ', text)\n",
        "    text = re.sub('([ ]*\\n)+', '\\n', text)\n",
        "    unwanted = [\"Sprinklr\\n\",\"Request Demo\\n\",\"English (US)\\n\",\"English (GB)\\n\",\"English (AU)\\n\",\"English (SG)\\n\",\"Fran ais\\n\",\"Portugu s\\n\",\"Deutsch\\n\",\"Espa ol\\n\",\"Login\\n\"]\n",
        "    unwanted = unwanted + [\"Privacy\\n\",\"Do Not Sell or Share My Info\\n\",\"Cookie Preferences\\n\",\"Modern Slavery Statement\\n\",\"Index Egalit \\n\",\"Terms\",\"Loading...\\n\",\"Connect with us\\n\"]\n",
        "    unwanted = unwanted + [\"Platform\\n\",\"Services\\n\",\"Integrated Services\\n\",\"Training\\n\",\"Partners\\n\",\"Agency\\n\",\"Developer Portal\\n\",\"Company\\n\",\"Our Story\\n\",\"Newsroom\\n\",\"Investor Relations\\n\",\"Culture & Talent\\n\",\"Careers\\n\",\"Contact Us\\n\",\"Resources\\n\",\"Analyst Reports\\n\",\"Product Demo Days\\n\",\"eBooks\\n\",\"Events\\n\",\"Blog (US)\\n\",\"Customer Stories\\n\"]\n",
        "    text = re.sub('|'.join(map(re.escape, unwanted)), '', text)\n",
        "\n",
        "    return text"
      ],
      "metadata": {
        "id": "_8rlfihl0nej"
      },
      "execution_count": null,
      "outputs": []
    },
    {
      "cell_type": "code",
      "source": [
        "#list to store the extrated text with source\n",
        "datas = []"
      ],
      "metadata": {
        "id": "A2cXGa66-Pvi"
      },
      "execution_count": null,
      "outputs": []
    },
    {
      "cell_type": "code",
      "source": [
        "#Extacting text along with the source url\n",
        "loaders = UnstructuredURLLoader(urls=[urls[0]])\n",
        "data = loaders.load()\n",
        "for url in urls:\n",
        "    response = requests.get(url)\n",
        "    soup = BeautifulSoup(response.content, \"html.parser\",from_encoding=\"iso-8859-1\")\n",
        "    text = soup.get_text(separator='\\n') #text present in the url\n",
        "    text = filter_text(text)\n",
        "    # data = loaders.load()\n",
        "    data[0].page_content = text\n",
        "    data[0].metadata[\"source\"] = url\n",
        "    datas.append(data[0])\n",
        "    i+=1\n",
        "    if(i%100==0):\n",
        "        print(i)\n"
      ],
      "metadata": {
        "id": "LetEZW_D04xj"
      },
      "execution_count": null,
      "outputs": []
    },
    {
      "cell_type": "code",
      "source": [
        "import re\n",
        "import requests\n",
        "from bs4 import BeautifulSoup\n",
        "\n",
        "tot_len = len(urls)\n",
        "sz = len(urls)/100 #Make a separate txt file for each 100 url\n",
        "\n",
        "\n",
        "for i in range(0,sz):\n",
        "    j=0\n",
        "    print(i)\n",
        "    data = []\n",
        "    for url in urls[i*100:min(tot_len,(i+1)*100)]:\n",
        "        response = requests.get(url)\n",
        "        soup = BeautifulSoup(response.content, \"html.parser\",from_encoding=\"iso-8859-1\")\n",
        "        text = soup.get_text() #text present in the url\n",
        "        text = re.sub(r'[^\\x00-\\x7F]+',' ', text) #remove non-ascii characters\n",
        "        data.append(text)\n",
        "        j+=1\n",
        "    filename = \"new_context/context\"+str(i)\n",
        "    with open(filename, 'w') as file:\n",
        "        for item in data:\n",
        "            item = re.sub('\\n+', '\\n', item)\n",
        "            file.write(str(item) + '\\n')\n"
      ],
      "metadata": {
        "id": "0n9N5QStVLSa"
      },
      "execution_count": null,
      "outputs": []
    }
  ]
}