{
  "nbformat": 4,
  "nbformat_minor": 0,
  "metadata": {
    "colab": {
      "provenance": [],
      "authorship_tag": "ABX9TyMOgJDXOk61/nMyqjNxqbui",
      "include_colab_link": true
    },
    "kernelspec": {
      "name": "python3",
      "display_name": "Python 3"
    },
    "language_info": {
      "name": "python"
    }
  },
  "cells": [
    {
      "cell_type": "markdown",
      "metadata": {
        "id": "view-in-github",
        "colab_type": "text"
      },
      "source": [
        "<a href=\"https://colab.research.google.com/github/uttam112/sprinklr/blob/main/Text_Extraction.ipynb\" target=\"_parent\"><img src=\"https://colab.research.google.com/assets/colab-badge.svg\" alt=\"Open In Colab\"/></a>"
      ]
    },
    {
      "cell_type": "markdown",
      "source": [
        "#Loading the Urls from txt file"
      ],
      "metadata": {
        "id": "RghA-XZwV9qc"
      }
    },
    {
      "cell_type": "code",
      "source": [
        "urls = []\n",
        "with open('SprinklrDotCom.txt', 'r') as file:\n",
        "    for line in file:\n",
        "        if(line.strip() not in urls):\n",
        "            urls.append(line.strip())\n",
        "\n",
        "print(len(urls))"
      ],
      "metadata": {
        "id": "ZfvtuOmcVTga"
      },
      "execution_count": null,
      "outputs": []
    },
    {
      "cell_type": "markdown",
      "source": [
        "#Extacting Text From the Urls"
      ],
      "metadata": {
        "id": "CJdHXBpRWB60"
      }
    },
    {
      "cell_type": "code",
      "source": [
        "import re\n",
        "import requests\n",
        "from bs4 import BeautifulSoup\n",
        "\n",
        "tot_len = len(urls)\n",
        "sz = len(urls)/100 #Make a separate txt file for each 100 url\n",
        "\n",
        "\n",
        "for i in range(0,sz):\n",
        "    j=0\n",
        "    print(i)\n",
        "    data = []\n",
        "    for url in urls[i*100:min(tot_len,(i+1)*100)]:\n",
        "        response = requests.get(url)\n",
        "        soup = BeautifulSoup(response.content, \"html.parser\",from_encoding=\"iso-8859-1\")\n",
        "        text = soup.get_text() #text present in the url\n",
        "        text = re.sub(r'[^\\x00-\\x7F]+',' ', text) #remove non-ascii characters\n",
        "        data.append(text)\n",
        "        j+=1\n",
        "    filename = \"new_context/context\"+str(i)\n",
        "    with open(filename, 'w') as file:\n",
        "        for item in data:\n",
        "            item = re.sub('\\n+', '\\n', item)\n",
        "            file.write(str(item) + '\\n')\n"
      ],
      "metadata": {
        "id": "0n9N5QStVLSa"
      },
      "execution_count": null,
      "outputs": []
    }
  ]
}